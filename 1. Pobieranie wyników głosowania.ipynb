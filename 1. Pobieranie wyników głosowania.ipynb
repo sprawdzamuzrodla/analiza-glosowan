{
 "cells": [
  {
   "cell_type": "code",
   "execution_count": 92,
   "id": "06606929",
   "metadata": {},
   "outputs": [],
   "source": [
    "import requests\n",
    "import re\n",
    "from tqdm import tqdm\n",
    "from multiprocessing.pool import ThreadPool as Pool\n",
    "from dataclasses import dataclass\n",
    "from bs4 import BeautifulSoup\n",
    "import pandas as pd\n"
   ]
  },
  {
   "cell_type": "markdown",
   "id": "38bc6d79",
   "metadata": {},
   "source": [
    "## Parametry"
   ]
  },
  {
   "cell_type": "code",
   "execution_count": 102,
   "id": "9fd3b945",
   "metadata": {},
   "outputs": [],
   "source": [
    "_THREADS = 1  # ile wątków ma być używanych do pobierania danych\n",
    "BASE_URL = \"https://www.sejm.gov.pl/sejm9.nsf/agent.xsp?\"\n",
    "TERM = 9  # numer kadencji"
   ]
  },
  {
   "cell_type": "code",
   "execution_count": 100,
   "id": "083fd55f",
   "metadata": {},
   "outputs": [],
   "source": [
    "@dataclass\n",
    "class Voting:\n",
    "    term: int\n",
    "    meeting: int\n",
    "    voting: int\n",
    "\n",
    "\n",
    "# 1. W tej części pobierane są terminy wszystkich posiedzeń dla wybranej kadencji\n",
    "\n",
    "def get_meetings_urls(term: int):\n",
    "    def _get_term_url(term: int) -> str:\n",
    "        return BASE_URL + f\"symbol=posglos&NrKadencji={term}\"\n",
    "    url = _get_term_url(term)\n",
    "    response = requests.get(url)\n",
    "    soup = BeautifulSoup(response.text)\n",
    "    content = soup.find(\"div\", {\"id\": \"contentBody\"})\n",
    "\n",
    "    data = []\n",
    "    for tag in content.find_all(\"a\"):\n",
    "        data.append(tag.attrs['href'].split(\"=\")[-1])\n",
    "    \n",
    "    return data\n",
    "\n",
    "\n",
    "# 2. Dla danego posiedzenia, pobierana jest lista wszystkich głosowań\n",
    "\n",
    "def get_votings_urls(meeting):\n",
    "    def _get_meeting_url(meeting: int) -> str:\n",
    "        return BASE_URL + f\"symbol=listaglos&IdDnia={meeting}\"    \n",
    "    \n",
    "    url = _get_meeting_url(meeting)\n",
    "    response = requests.get(url)\n",
    "    soup = BeautifulSoup(response.text)\n",
    "    content = soup.find(\"div\", {\"id\": \"contentBody\"})\n",
    "\n",
    "    data = []\n",
    "    for tag in content.find_all(\"a\"):\n",
    "        values = tag.attrs['href'].split(\"?\")[-1].split(\"&\")[1:]\n",
    "        voting = Voting(\n",
    "            term=int(values[0].split('=')[-1]),\n",
    "            meeting=int(values[1].split('=')[-1]),\n",
    "            voting=int(values[2].split('=')[-1]),\n",
    "        )\n",
    "        \n",
    "        if voting not in data: data.append(voting)\n",
    "    return data\n",
    "\n",
    "\n",
    "# 3. Dla danego głosowania, pobierane są wyniki głosowania w formie tabeli.\n",
    "\n",
    "def get_voting_results(voting: Voting) -> pd.DataFrame:\n",
    "    def _get_results_url(term: int, meeting: int, voting: int) -> str:\n",
    "        return BASE_URL + f\"symbol=glosowania&NrKadencji={term}&NrPosiedzenia={meeting}&NrGlosowania={voting}\"\n",
    "\n",
    "    def _parse_value(value: str) -> str:\n",
    "        if value == \"-\":\n",
    "            return 0\n",
    "        else:\n",
    "            return int(value)\n",
    "        \n",
    "    def _parse_response(response):\n",
    "        soup = BeautifulSoup(response.text)\n",
    "        content = soup.find(\"div\", {\"id\": \"contentBody\"})\n",
    "        header = [v.text for v in content.find_all(\"p\", {\"class\": \"subbig\"})]\n",
    "\n",
    "        data = []\n",
    "        for row in soup.find_all(\"tr\")[1:]:\n",
    "            values = row.find_all(\"td\")\n",
    "            data.append({\n",
    "                \"kadencja\": voting.term,\n",
    "                \"posiedzenie\": voting.meeting,\n",
    "                \"głosowanie\": voting.voting,\n",
    "                \"temat\": \": \".join(header),\n",
    "                \"partia\": values[0].text,\n",
    "                \"członkowie\": _parse_value(values[1].text),\n",
    "                \"głosy\": _parse_value(values[2].text),\n",
    "                \"za\": _parse_value(values[3].text),\n",
    "                \"przeciw\": _parse_value(values[4].text),\n",
    "                \"wstrzymane\": _parse_value(values[5].text),\n",
    "                \"brak\": _parse_value(values[6].text)\n",
    "            })\n",
    "        return data\n",
    "\n",
    "    url = _get_results_url(voting.term, voting.meeting, voting.voting)\n",
    "    response = requests.get(url)\n",
    "    try:\n",
    "        data = _parse_response(response)\n",
    "    except:\n",
    "        return None\n",
    "    return pd.DataFrame(data)"
   ]
  },
  {
   "cell_type": "markdown",
   "id": "ffee1080",
   "metadata": {},
   "source": [
    "# Pobieranie danych\n",
    "## Pobieranie głosowań ze wszystkich posiedzeń"
   ]
  },
  {
   "cell_type": "code",
   "execution_count": 81,
   "id": "d8c873b5",
   "metadata": {},
   "outputs": [
    {
     "name": "stderr",
     "output_type": "stream",
     "text": [
      "100%|████████████████████████████████████████████████████████████████████████████████████████████████████████████████████████████████████████████████████████████████████| 173/173 [01:00<00:00,  2.85it/s]\n"
     ]
    }
   ],
   "source": [
    "df = pd.DataFrame()\n",
    "\n",
    "meetings = get_meetings_urls(TERM)\n",
    "votings = []\n",
    "for meeting in tqdm(meetings):\n",
    "    votings.extend(get_votings_urls(meeting))"
   ]
  },
  {
   "cell_type": "markdown",
   "id": "bfc513e6",
   "metadata": {},
   "source": [
    "## Pobieranie wyników wszystkich głosowań"
   ]
  },
  {
   "cell_type": "code",
   "execution_count": 103,
   "id": "c278b5a3",
   "metadata": {},
   "outputs": [
    {
     "name": "stderr",
     "output_type": "stream",
     "text": [
      "100%|████████████████████████████████████████████████████████████████████████████████████████████████████████████████████████████████████████████████████████████████| 9100/9100 [1:10:23<00:00,  2.15it/s]\n"
     ]
    }
   ],
   "source": [
    "with Pool(_THREADS) as p:\n",
    "    results = list(tqdm(p.imap(get_voting_results, votings), total=len(votings)))"
   ]
  },
  {
   "cell_type": "markdown",
   "id": "8359d910",
   "metadata": {},
   "source": [
    "# Zapisywanie pobranych wyników"
   ]
  },
  {
   "cell_type": "code",
   "execution_count": 107,
   "id": "13263f08",
   "metadata": {},
   "outputs": [],
   "source": [
    "df = pd.concat(results)"
   ]
  },
  {
   "cell_type": "code",
   "execution_count": 110,
   "id": "4e58c6df",
   "metadata": {},
   "outputs": [],
   "source": [
    "df.to_csv(f\"data/{TERM}/wyniki.csv\", index=False)"
   ]
  }
 ],
 "metadata": {
  "kernelspec": {
   "display_name": "Python 3 (ipykernel)",
   "language": "python",
   "name": "python3"
  },
  "language_info": {
   "codemirror_mode": {
    "name": "ipython",
    "version": 3
   },
   "file_extension": ".py",
   "mimetype": "text/x-python",
   "name": "python",
   "nbconvert_exporter": "python",
   "pygments_lexer": "ipython3",
   "version": "3.10.4"
  }
 },
 "nbformat": 4,
 "nbformat_minor": 5
}
